{
 "cells": [
  {
   "cell_type": "markdown",
   "id": "90bbb081-3998-460c-a9d6-707be65be948",
   "metadata": {},
   "source": [
    "# `pandantic` v1- Solving the issue of black box `DataFrames` with `pydantic`\n",
    "\n",
    "This is the executable code associated with [article-goes-here-when-published]()."
   ]
  },
  {
   "cell_type": "markdown",
   "id": "55d31acb-d1ad-4a7d-9243-010b7c622fc0",
   "metadata": {},
   "source": [
    "## Setup for examples\n",
    "\n",
    "For our examples we will be using publicly available data from [FiveThirtyEight's repository](https://github.com/fivethirtyeight/data/tree/master) that captures stats about which movies pass the \"Bechdel test\". Essentially, a movie that passes the Bechdel test is one where there is at least one conversation between two women that isn't about a man. Regardless, we will be working with CSV data containing movies  Bechdel test results and other information for 1794 movies."
   ]
  },
  {
   "cell_type": "code",
   "execution_count": 1,
   "id": "3a88f2be-c6ad-4637-8e39-f6ddd5af9008",
   "metadata": {},
   "outputs": [],
   "source": [
    "import pydantic\n",
    "import pandantic\n",
    "import pandas as pd\n",
    "from pandantic.plugins import pandas\n",
    "from typing import Literal, Annotated "
   ]
  },
  {
   "cell_type": "code",
   "execution_count": 2,
   "id": "b67e572c-bc11-486f-9b1e-50cdfa00174e",
   "metadata": {},
   "outputs": [
    {
     "name": "stdout",
     "output_type": "stream",
     "text": [
      "<class 'pandas.core.frame.DataFrame'>\n",
      "RangeIndex: 1794 entries, 0 to 1793\n",
      "Data columns (total 15 columns):\n",
      " #   Column          Non-Null Count  Dtype  \n",
      "---  ------          --------------  -----  \n",
      " 0   year            1794 non-null   int64  \n",
      " 1   imdb            1794 non-null   object \n",
      " 2   title           1794 non-null   object \n",
      " 3   test            1794 non-null   object \n",
      " 4   clean_test      1794 non-null   object \n",
      " 5   binary          1794 non-null   object \n",
      " 6   budget          1794 non-null   int64  \n",
      " 7   domgross        1777 non-null   float64\n",
      " 8   intgross        1783 non-null   float64\n",
      " 9   code            1794 non-null   object \n",
      " 10  budget_2013$    1794 non-null   int64  \n",
      " 11  domgross_2013$  1776 non-null   float64\n",
      " 12  intgross_2013$  1783 non-null   float64\n",
      " 13  period code     1615 non-null   float64\n",
      " 14  decade code     1615 non-null   float64\n",
      "dtypes: float64(6), int64(3), object(6)\n",
      "memory usage: 210.4+ KB\n"
     ]
    },
    {
     "data": {
      "text/plain": [
       "None"
      ]
     },
     "metadata": {},
     "output_type": "display_data"
    },
    {
     "data": {
      "text/html": [
       "<div>\n",
       "<style scoped>\n",
       "    .dataframe tbody tr th:only-of-type {\n",
       "        vertical-align: middle;\n",
       "    }\n",
       "\n",
       "    .dataframe tbody tr th {\n",
       "        vertical-align: top;\n",
       "    }\n",
       "\n",
       "    .dataframe thead th {\n",
       "        text-align: right;\n",
       "    }\n",
       "</style>\n",
       "<table border=\"1\" class=\"dataframe\">\n",
       "  <thead>\n",
       "    <tr style=\"text-align: right;\">\n",
       "      <th></th>\n",
       "      <th>year</th>\n",
       "      <th>imdb</th>\n",
       "      <th>title</th>\n",
       "      <th>test</th>\n",
       "      <th>clean_test</th>\n",
       "      <th>binary</th>\n",
       "      <th>budget</th>\n",
       "      <th>domgross</th>\n",
       "      <th>intgross</th>\n",
       "      <th>code</th>\n",
       "      <th>budget_2013$</th>\n",
       "      <th>domgross_2013$</th>\n",
       "      <th>intgross_2013$</th>\n",
       "      <th>period code</th>\n",
       "      <th>decade code</th>\n",
       "    </tr>\n",
       "  </thead>\n",
       "  <tbody>\n",
       "    <tr>\n",
       "      <th>0</th>\n",
       "      <td>2013</td>\n",
       "      <td>tt1711425</td>\n",
       "      <td>21 &amp;amp; Over</td>\n",
       "      <td>notalk</td>\n",
       "      <td>notalk</td>\n",
       "      <td>FAIL</td>\n",
       "      <td>13000000</td>\n",
       "      <td>25682380.0</td>\n",
       "      <td>42195766.0</td>\n",
       "      <td>2013FAIL</td>\n",
       "      <td>13000000</td>\n",
       "      <td>25682380.0</td>\n",
       "      <td>42195766.0</td>\n",
       "      <td>1.0</td>\n",
       "      <td>1.0</td>\n",
       "    </tr>\n",
       "    <tr>\n",
       "      <th>1</th>\n",
       "      <td>2012</td>\n",
       "      <td>tt1343727</td>\n",
       "      <td>Dredd 3D</td>\n",
       "      <td>ok-disagree</td>\n",
       "      <td>ok</td>\n",
       "      <td>PASS</td>\n",
       "      <td>45000000</td>\n",
       "      <td>13414714.0</td>\n",
       "      <td>40868994.0</td>\n",
       "      <td>2012PASS</td>\n",
       "      <td>45658735</td>\n",
       "      <td>13611086.0</td>\n",
       "      <td>41467257.0</td>\n",
       "      <td>1.0</td>\n",
       "      <td>1.0</td>\n",
       "    </tr>\n",
       "    <tr>\n",
       "      <th>2</th>\n",
       "      <td>2013</td>\n",
       "      <td>tt2024544</td>\n",
       "      <td>12 Years a Slave</td>\n",
       "      <td>notalk-disagree</td>\n",
       "      <td>notalk</td>\n",
       "      <td>FAIL</td>\n",
       "      <td>20000000</td>\n",
       "      <td>53107035.0</td>\n",
       "      <td>158607035.0</td>\n",
       "      <td>2013FAIL</td>\n",
       "      <td>20000000</td>\n",
       "      <td>53107035.0</td>\n",
       "      <td>158607035.0</td>\n",
       "      <td>1.0</td>\n",
       "      <td>1.0</td>\n",
       "    </tr>\n",
       "    <tr>\n",
       "      <th>3</th>\n",
       "      <td>2013</td>\n",
       "      <td>tt1272878</td>\n",
       "      <td>2 Guns</td>\n",
       "      <td>notalk</td>\n",
       "      <td>notalk</td>\n",
       "      <td>FAIL</td>\n",
       "      <td>61000000</td>\n",
       "      <td>75612460.0</td>\n",
       "      <td>132493015.0</td>\n",
       "      <td>2013FAIL</td>\n",
       "      <td>61000000</td>\n",
       "      <td>75612460.0</td>\n",
       "      <td>132493015.0</td>\n",
       "      <td>1.0</td>\n",
       "      <td>1.0</td>\n",
       "    </tr>\n",
       "    <tr>\n",
       "      <th>4</th>\n",
       "      <td>2013</td>\n",
       "      <td>tt0453562</td>\n",
       "      <td>42</td>\n",
       "      <td>men</td>\n",
       "      <td>men</td>\n",
       "      <td>FAIL</td>\n",
       "      <td>40000000</td>\n",
       "      <td>95020213.0</td>\n",
       "      <td>95020213.0</td>\n",
       "      <td>2013FAIL</td>\n",
       "      <td>40000000</td>\n",
       "      <td>95020213.0</td>\n",
       "      <td>95020213.0</td>\n",
       "      <td>1.0</td>\n",
       "      <td>1.0</td>\n",
       "    </tr>\n",
       "  </tbody>\n",
       "</table>\n",
       "</div>"
      ],
      "text/plain": [
       "   year       imdb             title             test clean_test binary  \\\n",
       "0  2013  tt1711425     21 &amp; Over           notalk     notalk   FAIL   \n",
       "1  2012  tt1343727          Dredd 3D      ok-disagree         ok   PASS   \n",
       "2  2013  tt2024544  12 Years a Slave  notalk-disagree     notalk   FAIL   \n",
       "3  2013  tt1272878            2 Guns           notalk     notalk   FAIL   \n",
       "4  2013  tt0453562                42              men        men   FAIL   \n",
       "\n",
       "     budget    domgross     intgross      code  budget_2013$  domgross_2013$  \\\n",
       "0  13000000  25682380.0   42195766.0  2013FAIL      13000000      25682380.0   \n",
       "1  45000000  13414714.0   40868994.0  2012PASS      45658735      13611086.0   \n",
       "2  20000000  53107035.0  158607035.0  2013FAIL      20000000      53107035.0   \n",
       "3  61000000  75612460.0  132493015.0  2013FAIL      61000000      75612460.0   \n",
       "4  40000000  95020213.0   95020213.0  2013FAIL      40000000      95020213.0   \n",
       "\n",
       "   intgross_2013$  period code  decade code  \n",
       "0      42195766.0          1.0          1.0  \n",
       "1      41467257.0          1.0          1.0  \n",
       "2     158607035.0          1.0          1.0  \n",
       "3     132493015.0          1.0          1.0  \n",
       "4      95020213.0          1.0          1.0  "
      ]
     },
     "execution_count": 2,
     "metadata": {},
     "output_type": "execute_result"
    }
   ],
   "source": [
    "df = pd.read_csv(\"https://raw.githubusercontent.com/fivethirtyeight/data/refs/heads/master/bechdel/movies.csv\")\n",
    "display(df.info())\n",
    "df.head()"
   ]
  },
  {
   "cell_type": "markdown",
   "id": "fdb63ce0-68bf-4e12-8cf8-da7933926a01",
   "metadata": {},
   "source": [
    "## Basic validation\n",
    "\n",
    "Imagine we are writing a program that only needs the the `binary` test result (PASS or FAIL) and the non-negative `budget` values from each row in the `DataFrame`. We can first encapsulate our expectations with a `pydantic` model as shown below. \n",
    "\n",
    "Next we simply use the `pandas` plugin via `df.pandantic.validate(...)`. By default, `.validate()` returns the input dataframe if every row *contains* the fields defined in our `pydantic` model, as well as valid values. Optionally,`strict=True` alters this behavior to only allow validation if the model schema and the `DataFrame` columns are 1-to-1."
   ]
  },
  {
   "cell_type": "code",
   "execution_count": 3,
   "id": "600db79a-0cde-4bd5-8f30-f01e8e1da5c9",
   "metadata": {},
   "outputs": [],
   "source": [
    "class BechdelTestMovie(pydantic.BaseModel):\n",
    "    \"\"\"Information we need from each row/movie.\"\"\"\n",
    "    binary: Literal[\"PASS\"] | Literal[\"FAIL\"]\n",
    "    budget: Annotated[int, pydantic.Field(gt=0)]"
   ]
  },
  {
   "cell_type": "code",
   "execution_count": 4,
   "id": "9b17bd01-0a06-47d4-a51e-dfc8af13f079",
   "metadata": {},
   "outputs": [
    {
     "data": {
      "text/plain": [
       "True"
      ]
     },
     "execution_count": 4,
     "metadata": {},
     "output_type": "execute_result"
    }
   ],
   "source": [
    "df.pandantic.validate(BechdelTestMovie)"
   ]
  },
  {
   "cell_type": "markdown",
   "id": "acf3492d-5eaf-4171-92ad-87e129d2fff2",
   "metadata": {},
   "source": [
    "## DataFrame filtering\n",
    "\n",
    "While validating a `DataFrame` does allows one to make useful assumptions when writing code, it does not provide much functionality directly. Filtering however, can add a lot of value by completely replacing difficult to read `pandas` code, especially in cases where there are many specific rules/cases.\n",
    "\n",
    "To illustrate this let's pretent we only care to watch movies that pass the Bechdel test and have a budget between $10-$12M. After representing this criteria in a `pydantic` model, we can use `.filter()` on the `DataFrame` to remove invalid columns."
   ]
  },
  {
   "cell_type": "code",
   "execution_count": 11,
   "id": "9a1eae79-6f43-418b-aa8b-f5012529668c",
   "metadata": {},
   "outputs": [],
   "source": [
    "class MovieToWatch(pydantic.BaseModel):\n",
    "    \"\"\"A Bechdel test passing movie w/ a medium budget.\"\"\"\n",
    "    title: str\n",
    "    binary: Literal[\"PASS\"]\n",
    "    budget: Annotated[int, pydantic.Field(gt=10000000, lt=12000000)]"
   ]
  },
  {
   "cell_type": "code",
   "execution_count": 12,
   "id": "85f8fd47-aee8-4be4-85bc-8e226b304306",
   "metadata": {},
   "outputs": [
    {
     "data": {
      "text/plain": [
       "7"
      ]
     },
     "metadata": {},
     "output_type": "display_data"
    }
   ],
   "source": [
    "# we can see here that only 7/1794 movies fit this criteria\n",
    "display(len(df.pandantic.filter(MovieToWatch)))"
   ]
  },
  {
   "cell_type": "markdown",
   "id": "53927ce2-23a1-41c4-9e61-ca329fc2d23f",
   "metadata": {},
   "source": [
    "## Taking things further with iterators\n",
    "\n",
    "Pandas offers a variety of iterator functions that allow rows to be processed one-by-one in a memory efficient manor. `pandantic` builds on these capabilities by only returning valid rows out of iterator, or even returning the `pydantic` model object itself if using `.iterschemas(...)`"
   ]
  },
  {
   "cell_type": "code",
   "execution_count": 13,
   "id": "8b988fe0-e10f-4644-879f-3eb15d2df8fc",
   "metadata": {},
   "outputs": [
    {
     "name": "stdout",
     "output_type": "stream",
     "text": [
      "(595, 2008, 'tt0962726', 'High School Musical 3: Senior Year', 'ok', 'ok', 'PASS', 11000000, 90559416.0, 274392880.0, '2008PASS', 11904819, 98008500.0, 296963426.0, 2.0, 2.0)\n",
      "(644, 2008, 'tt0416212', 'The Secret Life of Bees', 'ok', 'ok', 'PASS', 11000000, 37770162.0, 39984023.0, '2008PASS', 11904819, 40876996.0, 43272961.0, 2.0, 2.0)\n",
      "(712, 2007, 'tt0964587', 'St. Trinian&#39;s', 'ok', 'ok', 'PASS', 11400000, 15000.0, 22446568.0, '2007PASS', 12808396, 16853.0, 25219695.0, 2.0, 2.0)\n",
      "(960, 2004, 'tt0362269', 'Kinsey', 'ok', 'ok', 'PASS', 11000000, 10214647.0, 13000959.0, '2004PASS', 13565122, 12596630.0, 16032690.0, 3.0, 2.0)\n",
      "(1004, 2004, 'tt0383694', 'Vera Drake', 'ok', 'ok', 'PASS', 11000000, 3753806.0, 13353855.0, '2004PASS', 13565122, 4629167.0, 16467879.0, 3.0, 2.0)\n",
      "(1292, 1999, 'tt0139134', 'Cruel Intentions', 'ok', 'ok', 'PASS', 11000000, 38230075.0, 75803716.0, '1999PASS', 15383082, 53463308.0, 106008618.0, 4.0, 3.0)\n",
      "(1711, 1982, 'tt0084516', 'Poltergeist', 'ok', 'ok', 'PASS', 10700000, 74706019.0, 121706019.0, '1982PASS', 25821968, 180285645.0, 293709241.0, nan, nan)\n"
     ]
    }
   ],
   "source": [
    "for row_tuple in df.pandantic.itertuples(MovieToWatch):\n",
    "    print(row_tuple)"
   ]
  },
  {
   "cell_type": "code",
   "execution_count": 14,
   "id": "ab70e4a9-b543-4734-984c-4f0930f1e03e",
   "metadata": {},
   "outputs": [
    {
     "data": {
      "text/plain": [
       "595"
      ]
     },
     "metadata": {},
     "output_type": "display_data"
    },
    {
     "data": {
      "text/plain": [
       "644"
      ]
     },
     "metadata": {},
     "output_type": "display_data"
    },
    {
     "data": {
      "text/plain": [
       "712"
      ]
     },
     "metadata": {},
     "output_type": "display_data"
    },
    {
     "data": {
      "text/plain": [
       "960"
      ]
     },
     "metadata": {},
     "output_type": "display_data"
    },
    {
     "data": {
      "text/plain": [
       "1004"
      ]
     },
     "metadata": {},
     "output_type": "display_data"
    },
    {
     "data": {
      "text/plain": [
       "1292"
      ]
     },
     "metadata": {},
     "output_type": "display_data"
    },
    {
     "data": {
      "text/plain": [
       "1711"
      ]
     },
     "metadata": {},
     "output_type": "display_data"
    }
   ],
   "source": [
    "for index, row in df.pandantic.iterrows(MovieToWatch):\n",
    "    assert isinstance(row, pd.Series)\n",
    "    display(index)"
   ]
  },
  {
   "cell_type": "code",
   "execution_count": 15,
   "id": "eb04f9bd-cbe6-476b-99d9-406c130f24d5",
   "metadata": {},
   "outputs": [
    {
     "data": {
      "text/plain": [
       "MovieToWatch(title='High School Musical 3: Senior Year', binary='PASS', budget=11000000)"
      ]
     },
     "metadata": {},
     "output_type": "display_data"
    },
    {
     "data": {
      "text/plain": [
       "MovieToWatch(title='The Secret Life of Bees', binary='PASS', budget=11000000)"
      ]
     },
     "metadata": {},
     "output_type": "display_data"
    },
    {
     "data": {
      "text/plain": [
       "MovieToWatch(title='St. Trinian&#39;s', binary='PASS', budget=11400000)"
      ]
     },
     "metadata": {},
     "output_type": "display_data"
    },
    {
     "data": {
      "text/plain": [
       "MovieToWatch(title='Kinsey', binary='PASS', budget=11000000)"
      ]
     },
     "metadata": {},
     "output_type": "display_data"
    },
    {
     "data": {
      "text/plain": [
       "MovieToWatch(title='Vera Drake', binary='PASS', budget=11000000)"
      ]
     },
     "metadata": {},
     "output_type": "display_data"
    },
    {
     "data": {
      "text/plain": [
       "MovieToWatch(title='Cruel Intentions', binary='PASS', budget=11000000)"
      ]
     },
     "metadata": {},
     "output_type": "display_data"
    },
    {
     "data": {
      "text/plain": [
       "MovieToWatch(title='Poltergeist', binary='PASS', budget=10700000)"
      ]
     },
     "metadata": {},
     "output_type": "display_data"
    }
   ],
   "source": [
    "for index, obj in df.pandantic.iterschemas(MovieToWatch):\n",
    "    display(obj)"
   ]
  },
  {
   "cell_type": "code",
   "execution_count": null,
   "id": "3061eefe-7492-4d7e-a7f9-662bb1aa7aa4",
   "metadata": {},
   "outputs": [],
   "source": []
  }
 ],
 "metadata": {
  "kernelspec": {
   "display_name": "Python 3 (ipykernel)",
   "language": "python",
   "name": "python3"
  },
  "language_info": {
   "codemirror_mode": {
    "name": "ipython",
    "version": 3
   },
   "file_extension": ".py",
   "mimetype": "text/x-python",
   "name": "python",
   "nbconvert_exporter": "python",
   "pygments_lexer": "ipython3",
   "version": "3.13.1"
  }
 },
 "nbformat": 4,
 "nbformat_minor": 5
}
